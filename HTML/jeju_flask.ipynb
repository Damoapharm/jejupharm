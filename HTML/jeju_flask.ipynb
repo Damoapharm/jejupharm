{
 "cells": [
  {
   "cell_type": "code",
   "execution_count": 1,
   "id": "413611ce",
   "metadata": {},
   "outputs": [
    {
     "name": "stdout",
     "output_type": "stream",
     "text": [
      "Requirement already satisfied: flask in c:\\users\\user\\anaconda3\\lib\\site-packages (1.1.2)\n",
      "Requirement already satisfied: itsdangerous>=0.24 in c:\\users\\user\\anaconda3\\lib\\site-packages (from flask) (2.0.1)\n",
      "Requirement already satisfied: Werkzeug>=0.15 in c:\\users\\user\\anaconda3\\lib\\site-packages (from flask) (2.0.2)\n",
      "Requirement already satisfied: Jinja2>=2.10.1 in c:\\users\\user\\anaconda3\\lib\\site-packages (from flask) (2.11.3)\n",
      "Requirement already satisfied: click>=5.1 in c:\\users\\user\\anaconda3\\lib\\site-packages (from flask) (8.0.3)\n",
      "Requirement already satisfied: colorama in c:\\users\\user\\anaconda3\\lib\\site-packages (from click>=5.1->flask) (0.4.4)\n",
      "Requirement already satisfied: MarkupSafe>=0.23 in c:\\users\\user\\anaconda3\\lib\\site-packages (from Jinja2>=2.10.1->flask) (1.1.1)\n",
      "^C\n"
     ]
    }
   ],
   "source": [
    "!pip install flask\n",
    "!pip install flask_cors\n",
    "# !pip install flask-cors --upgrade"
   ]
  },
  {
   "cell_type": "markdown",
   "id": "f40729c8",
   "metadata": {
    "scrolled": true
   },
   "source": [
    "import pandas as pd\n",
    "Data = pd.read_csv(\"jeju_final.csv\")\n",
    "Data['subarea'].unique()"
   ]
  },
  {
   "cell_type": "markdown",
   "id": "a2e855f6",
   "metadata": {
    "scrolled": true
   },
   "source": [
    "Data.columns"
   ]
  },
  {
   "cell_type": "code",
   "execution_count": 7,
   "id": "e912bada",
   "metadata": {
    "scrolled": true
   },
   "outputs": [
    {
     "name": "stdout",
     "output_type": "stream",
     "text": [
      " * Serving Flask app \"__main__\" (lazy loading)\n",
      " * Environment: production\n",
      "\u001b[31m   WARNING: This is a development server. Do not use it in a production deployment.\u001b[0m\n",
      "\u001b[2m   Use a production WSGI server instead.\u001b[0m\n",
      " * Debug mode: off\n"
     ]
    },
    {
     "name": "stderr",
     "output_type": "stream",
     "text": [
      "C:\\Users\\User\\AppData\\Local\\Temp/ipykernel_780/3736736661.py:12: SettingWithCopyWarning: \n",
      "A value is trying to be set on a copy of a slice from a DataFrame\n",
      "\n",
      "See the caveats in the documentation: https://pandas.pydata.org/pandas-docs/stable/user_guide/indexing.html#returning-a-view-versus-a-copy\n",
      "  Data['companyName'][i] = Data['companyName'][i].replace(' ','')\n",
      " * Running on http://localhost:5000/ (Press CTRL+C to quit)\n",
      "127.0.0.1 - - [22/Jun/2022 23:09:40] \"GET / HTTP/1.1\" 200 -\n",
      "127.0.0.1 - - [22/Jun/2022 23:09:47] \"GET /PharmacyDetail?Name=건강일등약국 HTTP/1.1\" 200 -\n",
      "127.0.0.1 - - [22/Jun/2022 23:09:50] \"GET /JejuPharmacyTotal HTTP/1.1\" 200 -\n",
      "127.0.0.1 - - [22/Jun/2022 23:09:59] \"GET /PharmacyDetail?Name=제주누리약국 HTTP/1.1\" 200 -\n",
      "127.0.0.1 - - [22/Jun/2022 23:10:05] \"GET /PharmacyDetail?Name=건강일등약국 HTTP/1.1\" 200 -\n",
      "127.0.0.1 - - [22/Jun/2022 23:10:09] \"GET /PharmacyDetail?Name=햇님온누리약국 HTTP/1.1\" 200 -\n",
      "127.0.0.1 - - [22/Jun/2022 23:10:12] \"GET / HTTP/1.1\" 200 -\n"
     ]
    }
   ],
   "source": [
    "from flask import Flask, request, render_template, redirect\n",
    "from flask_cors import CORS\n",
    "import re\n",
    "import random\n",
    "import pandas as pd\n",
    "import numpy as np\n",
    "import os\n",
    "\n",
    "app = Flask(__name__, static_url_path=\"/static\")\n",
    "Data = pd.read_csv(\"jeju_final.csv\")\n",
    "for i in range(0, len(Data)):\n",
    "    Data['companyName'][i] = Data['companyName'][i].replace(' ','')\n",
    "Data = Data.reset_index()\n",
    "Data1 = Data[Data[\"filter\"] == 1]\n",
    "Data1 = Data1.reset_index()\n",
    "Data2 = Data[Data[\"filter\"] == 2]\n",
    "Data2 = Data2.reset_index()\n",
    "Data3 = Data[Data[\"filter\"] == 3]\n",
    "Data3 = Data3.reset_index()\n",
    "\n",
    "CORS(app)\n",
    "\n",
    "Name = Data['companyName']\n",
    "Tel = Data['tel']\n",
    "PostcodeDoro = Data['postcodeDoro']\n",
    "AddressDoro = Data['addressDoro']\n",
    "AddressJibun = Data['addressJibun']\n",
    "LatitudeValue = Data['latitude']\n",
    "LongitudeValue = Data['longitude']\n",
    "Filter = Data['filter']\n",
    "FilterNight = Data['filternight']\n",
    "Filter365 = Data['filter365']\n",
    "SubArea = Data['subarea']\n",
    "\n",
    "Name1 = Data1['companyName']\n",
    "AddressDoro1 = Data1['addressDoro']\n",
    "LatitudeValue1 = Data1['latitude']\n",
    "LongitudeValue1 = Data1['longitude']\n",
    "\n",
    "Name2 = Data2['companyName']\n",
    "AddressDoro2 = Data2['addressDoro']\n",
    "DetailNight = Data2['filternight']\n",
    "LatitudeValue2 = Data2['latitude']\n",
    "LongitudeValue2 = Data2['longitude']\n",
    "\n",
    "Name3 = Data3['companyName']\n",
    "AddressDoro3 = Data3['addressDoro']\n",
    "Detail365 = Data3['filter365']\n",
    "LatitudeValue3 = Data3['latitude']\n",
    "LongitudeValue3 = Data3['longitude']\n",
    "\n",
    "# FLASK API 구현\n",
    "# FLASK API 생성 예제 1\n",
    "# jeju-damoa-main.html (http://127.0.0.1:5000/JejuPharmacyMoa)\n",
    "@app.route(\"/\", methods=['GET','POST'])\n",
    "def MainPage():\n",
    "    return render_template('jeju-damoa-main.html',\n",
    "                            len2 = len(Name2),\n",
    "                            Name2 = Name2,\n",
    "                            AddressDoro2 = AddressDoro2,\n",
    "                            DetailNight = DetailNight,\n",
    "                            len3 = len(Name3),\n",
    "                            Name3 = Name3,\n",
    "                            AddressDoro3 = AddressDoro3,\n",
    "                            Detail365 = Detail365)\n",
    "\n",
    "# FLASK API 생성 예제 2\n",
    "# jeju-damoa-detail.html (http://127.0.0.1:5000/PharmacyDetail)\n",
    "@app.route(\"/PharmacyDetail\", methods=['GET','POST'])\n",
    "def DetailPage():\n",
    "    InputName = request.args.get('Name')\n",
    "    IDX = np.where(Name == InputName)[0]\n",
    "    return render_template('jeju-damoa-detail.html',\n",
    "                            Name = Name[IDX].values[0],\n",
    "                            LatitudeValue=LatitudeValue[IDX].values[0],\n",
    "                            LongitudeValue=LongitudeValue[IDX].values[0],\n",
    "                            Tel = Tel[IDX].values[0],\n",
    "                            AddressDoro = AddressDoro[IDX].values[0],\n",
    "                            AddressJibun = AddressJibun[IDX].values[0],\n",
    "                            PostcodeDoro = PostcodeDoro[IDX].values[0],\n",
    "                            Filter = Filter[IDX])\n",
    "\n",
    "# FLASK API 생성 예제 3\n",
    "# jeju-damoa-total.html (http://127.0.0.1:5000/JejuPharmacyTotal)\n",
    "@app.route(\"/JejuPharmacyTotal\", methods=['GET','POST'])\n",
    "def TotalPage():\n",
    "    return render_template('jeju-damoa-total.html',\n",
    "                            len4 = len(Name),\n",
    "                            SubArea = SubArea,\n",
    "                            Name = Name,\n",
    "                            Tel = Tel,\n",
    "                            AddressDoro = AddressDoro)\n",
    "\n",
    "# API 작동\n",
    "app.run(host='localhost', port='5000')"
   ]
  },
  {
   "cell_type": "markdown",
   "id": "8fd7eb2c",
   "metadata": {},
   "source": [
    "http://localhost:5000/JejuPharmacyMoa\n",
    "\n",
    "http://localhost:5000/PharmacyDetail\n",
    "\n",
    "http://localhost:5000/JejuPharmacyTotal"
   ]
  },
  {
   "cell_type": "code",
   "execution_count": null,
   "id": "cdcfe5db",
   "metadata": {},
   "outputs": [],
   "source": []
  },
  {
   "cell_type": "markdown",
   "id": "43839781",
   "metadata": {},
   "source": [
    "DataFilter1 = Data1['subarea']\n",
    "DataFilter2 = Data2['subarea']\n",
    "DataFilter3 = Data3['subarea']\n",
    "\n",
    "# FLASK API 생성 예제 3\n",
    "# jeju-damoa-total.html (http://127.0.0.1:5000/JejuPharmacyTotal)\n",
    "@app.route(\"/JejuPharmacyTotal\", methods=['GET','POST'])\n",
    "def TotalPhPage():\n",
    "    return render_template('jeju-damoa-total.html',\n",
    "                            DataFilter1 = DataFilter1,\n",
    "                            DataFilter2 = DataFilter2,\n",
    "                            DataFilter3 = DataFilter3,\n",
    "                            len1 = len(Name1),\n",
    "                            Name1 = Name1,\n",
    "                            AddressDoro1 = AddressDoro1,\n",
    "                            len2 = len(Name2),\n",
    "                            Name2 = Name2,\n",
    "                            AddressDoro2 = AddressDoro2,\n",
    "                            DetailNight = DetailNight,\n",
    "                            len3 = len(Name3),\n",
    "                            Name3 = Name3,\n",
    "                            AddressDoro3 = AddressDoro3,\n",
    "                            Detail365 = Detail365)"
   ]
  }
 ],
 "metadata": {
  "kernelspec": {
   "display_name": "Python 3 (ipykernel)",
   "language": "python",
   "name": "python3"
  },
  "language_info": {
   "codemirror_mode": {
    "name": "ipython",
    "version": 3
   },
   "file_extension": ".py",
   "mimetype": "text/x-python",
   "name": "python",
   "nbconvert_exporter": "python",
   "pygments_lexer": "ipython3",
   "version": "3.9.7"
  }
 },
 "nbformat": 4,
 "nbformat_minor": 5
}
