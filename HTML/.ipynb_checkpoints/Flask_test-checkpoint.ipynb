{
 "cells": [
  {
   "cell_type": "markdown",
   "id": "fe5e88bd",
   "metadata": {},
   "source": [
    "## submit.html 데이터를 travel_data.csv 파일에 저장"
   ]
  },
  {
   "cell_type": "code",
   "execution_count": 1,
   "id": "52eda7c1",
   "metadata": {},
   "outputs": [
    {
     "data": {
      "text/plain": [
       "<flask_cors.extension.CORS at 0x7fff6809ca30>"
      ]
     },
     "execution_count": 1,
     "metadata": {},
     "output_type": "execute_result"
    }
   ],
   "source": [
    "from flask import Flask\n",
    "from flask_cors import CORS\n",
    "from flask import request\n",
    "\n",
    "import json\n",
    "import pandas as pd\n",
    "app = Flask(__name__)\n",
    "CORS(app)"
   ]
  },
  {
   "cell_type": "code",
   "execution_count": 2,
   "id": "79bd93a6",
   "metadata": {},
   "outputs": [],
   "source": [
    "#전체 게시글 main에서는 6개, listing-grid 상에서는 15개를 띄운 다음 '더보기'버튼 클릭 시 추가로 뜨는 방식\n",
    "#위의 방식 확인을 위해 20개 임의로 입력하기\n",
    "Data = pd.DataFrame({\n",
    "    'ID': ['sosal', 'taehwan','jeju','triplo','made','eat'],\n",
    "    'Title':['여수 저녁식사하실분', '강릉 서핑하실분','오프로드 체험','쇠소깍 카약','비누 공방 원데이 클래스',\n",
    "             '제주 점심 갈치조림'],\n",
    "    'Category':['식당', '액티비티','액티비티','액티비티','클래스','식당'],\n",
    "    'Content':['여수 오늘 밤 7시에 도착해서 혼밥해야하는데 같이 하실분 구해요', '서핑 고수입니다',\n",
    "               '10시, 11시, 12시, 14시, 15시, 16시, 18시 7회 운영, 2인 이상 예약 가능',\n",
    "               '카약 - 2인용, 예약 시간 20분 전까지 도착 요망', '2인 10% 할인',\n",
    "               '방문하고 싶은 식당인데 1인은 안 된다고 하네요ㅠㅠ'],\n",
    "    'Date':['2022.06.30', '2022.06.16','2022.05.28','2022.05.27','2022.06.01','2022.06.06'],\n",
    "    'Chatlink':['open.kakao1','open.kakao2','open.kakao3','open.kakao4','open.kakao5','open.kakao6'],\n",
    "    'nPeople':[1, 3, 1, 1, 1, 1],\n",
    "    'Gender':['여', '상관없음', '상관없음','남','여','상관없음'],\n",
    "    'Location':['전남', '강원','제주','제주','경기','제주'],\n",
    "    'DLocation':['전라남도 여수시', '강원도 강릉시','제주특별자치도 제주시','제주특별자치도 서귀포시','경기도 김포시',\n",
    "                '제주특별자치도 제주시'],\n",
    "    'Photo':['sosal.jpg', 'taehwan.jpg','jeju.jpg','triplo.jpg','made.jpg', 'eat.jpg']\n",
    "})"
   ]
  },
  {
   "cell_type": "code",
   "execution_count": 3,
   "id": "b1048124",
   "metadata": {
    "scrolled": true
   },
   "outputs": [],
   "source": [
    "# 데이터 읽어들이기\n",
    "#Data = pd.read_csv(\"travel_data.csv\")\n",
    "#Data.head()"
   ]
  },
  {
   "cell_type": "markdown",
   "id": "b9f354d1",
   "metadata": {},
   "source": [
    "# FLASK API 구현"
   ]
  },
  {
   "cell_type": "markdown",
   "id": "a8247e79",
   "metadata": {},
   "source": [
    "참고 링크\n",
    "- https://yong0810.tistory.com/16 (DB 사용 경우)\n",
    "- render 관련\n",
    " - https://yujuwon.tistory.com/entry/Django-Django%EC%97%90%EC%84%9C-ajax-%EC%82%AC%EC%9A%A9%ED%95%98%EA%B8%B0\n",
    " - https://www.fun-coding.org/flask_basic-2.html\n",
    " - https://frhyme.github.io/python-lib/a_flask_with_button/"
   ]
  },
  {
   "cell_type": "code",
   "execution_count": 3,
   "id": "11542211",
   "metadata": {},
   "outputs": [],
   "source": [
    "# FLASK API 생성 예제 1\n",
    "@app.route(\"/AddData\", methods=['GET','POST'])\n",
    "def getUserInfo():\n",
    "    # URL 변수로 들어오는 것, 받기\n",
    "    UserID = str(request.args.get('ID'))\n",
    "    Title = str(request.args.get('Title'))\n",
    "    Category = str(request.args.get('Category'))\n",
    "    DetailContent = str(request.args.get('Content'))\n",
    "    YearMonthDay = str(request.args.get('Date'))\n",
    "    Chatlink = str(request.args.get('Link'))\n",
    "    PeopleNumber = int(request.args.get('nPeople'))\n",
    "    Gender = str(request.args.get('Gender'))\n",
    "    Location = str(request.args.get('Location'))\n",
    "    DetailLocation = str(request.args.get('DLocation'))\n",
    "    Photo = str(request.args.get('Photo'))\n",
    "    \n",
    "    NewData = {'ID': UserID,\n",
    "               'Title':Title,\n",
    "               'Category':Category,\n",
    "               'Content':DetailContent,\n",
    "               'Date':YearMonthDay,\n",
    "               'Chatlink':Link,\n",
    "               'nPeople':PeopleNumber,\n",
    "               'Gender':Gender,\n",
    "               'Location':Location,\n",
    "               'DLocation':DetailLocation,\n",
    "               'Photo':Photo, \n",
    "    }\n",
    "    \n",
    "    Date.append(NewData)\n",
    "    \n",
    "    Date.to_csv(\"travel_data.csv\")\n",
    "    \n",
    "    if UserID < 0 or UserID >= Data.shape[0]:\n",
    "        return \"There is no information with that ID.\"\n",
    "    else:\n",
    "        # HTML table 형태로 변환하여 return\n",
    "        return pd.DataFrame(Data.loc[UserID]).to_html()"
   ]
  },
  {
   "cell_type": "code",
   "execution_count": 4,
   "id": "aff94150",
   "metadata": {},
   "outputs": [],
   "source": [
    "# FLASK API 생성 예제 2\n",
    "@app.route(\"/getUserInfo2\", methods=['GET','POST'])\n",
    "def getUserInfo2_from_to():\n",
    "    #n = int(request.args.get('Data'))\n",
    "    return pd.DataFrame(Data.loc[:6]).to_json()"
   ]
  },
  {
   "cell_type": "code",
   "execution_count": 5,
   "id": "0d0cce44",
   "metadata": {},
   "outputs": [],
   "source": [
    "# FLASK API 생성 예제 3\n",
    "@app.route(\"/getUserInfoListingGrid\", methods=['GET','POST'])\n",
    "def getUserInfoListingGrid():\n",
    "    What = request.args.get('What')\n",
    "    Location = request.args.get('Location')\n",
    "    Category = request.args.get('Category')\n",
    "\n",
    "    if What == '':\n",
    "        What_index = [True for i in range(len(Data['Title']))]\n",
    "    else:\n",
    "        What_index = [What in Title or What in Content for Title, Content in zip(Data['Title'], Data['Content'])]\n",
    "        \n",
    "    if Location == '':\n",
    "        Location_index = [True for i in range(len(Data['Title']))]\n",
    "    else:\n",
    "        Location_index = list(Data['Location'] == Location)\n",
    "    \n",
    "    if Category == '':\n",
    "        Category_index = [True for i in range(len(Data['Title']))]\n",
    "    else:\n",
    "        Category_index = list(Data['Category'] == Category)\n",
    "\n",
    "    FinalIndex = pd.Series([a and b and c for a, b, c in zip(What_index, Location_index, Category_index)])\n",
    "    return Data.loc[FinalIndex].to_json()"
   ]
  },
  {
   "cell_type": "markdown",
   "id": "7928ecbd",
   "metadata": {},
   "source": [
    "# API 작동"
   ]
  },
  {
   "cell_type": "markdown",
   "id": "caec5d17",
   "metadata": {},
   "source": [
    "main.html에서 최근 모집글에 게시글 6개 띄우기\n",
    "- http://127.0.0.1:5000/getUserInfo2"
   ]
  },
  {
   "cell_type": "markdown",
   "id": "d2c0d714",
   "metadata": {},
   "source": [
    "검색 기능\n",
    "- http://127.0.0.1:5000/getUserInfoListingGrid"
   ]
  },
  {
   "cell_type": "code",
   "execution_count": 7,
   "id": "179dc1ea",
   "metadata": {
    "scrolled": false
   },
   "outputs": [
    {
     "name": "stdout",
     "output_type": "stream",
     "text": [
      " * Serving Flask app '__main__' (lazy loading)\n",
      " * Environment: production\n",
      "\u001b[31m   WARNING: This is a development server. Do not use it in a production deployment.\u001b[0m\n",
      "\u001b[2m   Use a production WSGI server instead.\u001b[0m\n",
      " * Debug mode: off\n"
     ]
    },
    {
     "name": "stderr",
     "output_type": "stream",
     "text": [
      " * Running on http://127.0.0.1:5000 (Press CTRL+C to quit)\n"
     ]
    }
   ],
   "source": [
    "app.run(host='127.0.0.1', port=5000)"
   ]
  },
  {
   "cell_type": "markdown",
   "id": "283b4611",
   "metadata": {},
   "source": [
    "# 실험해보기"
   ]
  },
  {
   "cell_type": "code",
   "execution_count": null,
   "id": "2e4954ee",
   "metadata": {},
   "outputs": [],
   "source": [
    "# http://127.0.0.1:5000/getUserInfo?id=0\n",
    "# http://127.0.0.1:5000/getUserInfo2?from=0&to=3"
   ]
  }
 ],
 "metadata": {
  "kernelspec": {
   "display_name": "Python 3 (ipykernel)",
   "language": "python",
   "name": "python3"
  },
  "language_info": {
   "codemirror_mode": {
    "name": "ipython",
    "version": 3
   },
   "file_extension": ".py",
   "mimetype": "text/x-python",
   "name": "python",
   "nbconvert_exporter": "python",
   "pygments_lexer": "ipython3",
   "version": "3.9.7"
  }
 },
 "nbformat": 4,
 "nbformat_minor": 5
}
