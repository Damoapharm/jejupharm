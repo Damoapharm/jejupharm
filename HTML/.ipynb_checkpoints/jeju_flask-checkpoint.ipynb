{
 "cells": [
  {
   "cell_type": "code",
   "execution_count": 1,
   "id": "413611ce",
   "metadata": {},
   "outputs": [
    {
     "name": "stdout",
     "output_type": "stream",
     "text": [
      "Requirement already satisfied: flask in c:\\users\\user\\anaconda3\\lib\\site-packages (1.1.2)\n",
      "Requirement already satisfied: itsdangerous>=0.24 in c:\\users\\user\\anaconda3\\lib\\site-packages (from flask) (2.0.1)\n",
      "Requirement already satisfied: Werkzeug>=0.15 in c:\\users\\user\\anaconda3\\lib\\site-packages (from flask) (2.0.2)\n",
      "Requirement already satisfied: Jinja2>=2.10.1 in c:\\users\\user\\anaconda3\\lib\\site-packages (from flask) (2.11.3)\n",
      "Requirement already satisfied: click>=5.1 in c:\\users\\user\\anaconda3\\lib\\site-packages (from flask) (8.0.3)\n",
      "Requirement already satisfied: colorama in c:\\users\\user\\anaconda3\\lib\\site-packages (from click>=5.1->flask) (0.4.4)\n",
      "Requirement already satisfied: MarkupSafe>=0.23 in c:\\users\\user\\anaconda3\\lib\\site-packages (from Jinja2>=2.10.1->flask) (1.1.1)\n",
      "^C\n"
     ]
    }
   ],
   "source": [
    "!pip install flask\n",
    "!pip install flask_cors\n",
    "# !pip install flask-cors --upgrade"
   ]
  },
  {
   "cell_type": "code",
   "execution_count": 2,
   "id": "add9f7a7",
   "metadata": {
    "scrolled": true
   },
   "outputs": [
    {
     "name": "stdout",
     "output_type": "stream",
     "text": [
      "Requirement already satisfied: flask_cors in c:\\users\\user\\anaconda3\\lib\\site-packages (3.0.10)\n",
      "Requirement already satisfied: Six in c:\\users\\user\\anaconda3\\lib\\site-packages (from flask_cors) (1.16.0)\n",
      "Requirement already satisfied: Flask>=0.9 in c:\\users\\user\\anaconda3\\lib\\site-packages (from flask_cors) (1.1.2)\n",
      "Requirement already satisfied: Jinja2>=2.10.1 in c:\\users\\user\\anaconda3\\lib\\site-packages (from Flask>=0.9->flask_cors) (2.11.3)\n",
      "Requirement already satisfied: click>=5.1 in c:\\users\\user\\anaconda3\\lib\\site-packages (from Flask>=0.9->flask_cors) (8.0.3)\n",
      "Requirement already satisfied: Werkzeug>=0.15 in c:\\users\\user\\anaconda3\\lib\\site-packages (from Flask>=0.9->flask_cors) (2.0.2)\n",
      "Requirement already satisfied: itsdangerous>=0.24 in c:\\users\\user\\anaconda3\\lib\\site-packages (from Flask>=0.9->flask_cors) (2.0.1)\n",
      "Requirement already satisfied: colorama in c:\\users\\user\\anaconda3\\lib\\site-packages (from click>=5.1->Flask>=0.9->flask_cors) (0.4.4)\n",
      "Requirement already satisfied: MarkupSafe>=0.23 in c:\\users\\user\\anaconda3\\lib\\site-packages (from Jinja2>=2.10.1->Flask>=0.9->flask_cors) (1.1.1)\n"
     ]
    },
    {
     "ename": "NameError",
     "evalue": "name 'pd' is not defined",
     "output_type": "error",
     "traceback": [
      "\u001b[1;31m---------------------------------------------------------------------------\u001b[0m",
      "\u001b[1;31mNameError\u001b[0m                                 Traceback (most recent call last)",
      "\u001b[1;32m~\\AppData\\Local\\Temp/ipykernel_23936/1871299631.py\u001b[0m in \u001b[0;36m<module>\u001b[1;34m\u001b[0m\n\u001b[1;32m----> 1\u001b[1;33m \u001b[0mData\u001b[0m \u001b[1;33m=\u001b[0m \u001b[0mpd\u001b[0m\u001b[1;33m.\u001b[0m\u001b[0mread_csv\u001b[0m\u001b[1;33m(\u001b[0m\u001b[1;34m\"jeju_final.csv\"\u001b[0m\u001b[1;33m)\u001b[0m\u001b[1;33m\u001b[0m\u001b[1;33m\u001b[0m\u001b[0m\n\u001b[0m\u001b[0;32m      2\u001b[0m \u001b[1;32mfor\u001b[0m \u001b[0mi\u001b[0m \u001b[1;32min\u001b[0m \u001b[0mrange\u001b[0m\u001b[1;33m(\u001b[0m\u001b[1;36m0\u001b[0m\u001b[1;33m,\u001b[0m \u001b[0mlen\u001b[0m\u001b[1;33m(\u001b[0m\u001b[0mData\u001b[0m\u001b[1;33m)\u001b[0m\u001b[1;33m)\u001b[0m\u001b[1;33m:\u001b[0m\u001b[1;33m\u001b[0m\u001b[1;33m\u001b[0m\u001b[0m\n\u001b[0;32m      3\u001b[0m     \u001b[0mData\u001b[0m\u001b[1;33m[\u001b[0m\u001b[1;34m'companyName'\u001b[0m\u001b[1;33m]\u001b[0m\u001b[1;33m[\u001b[0m\u001b[0mi\u001b[0m\u001b[1;33m]\u001b[0m \u001b[1;33m=\u001b[0m \u001b[0mData\u001b[0m\u001b[1;33m[\u001b[0m\u001b[1;34m'companyName'\u001b[0m\u001b[1;33m]\u001b[0m\u001b[1;33m[\u001b[0m\u001b[0mi\u001b[0m\u001b[1;33m]\u001b[0m\u001b[1;33m.\u001b[0m\u001b[0mreplace\u001b[0m\u001b[1;33m(\u001b[0m\u001b[1;34m' '\u001b[0m\u001b[1;33m,\u001b[0m\u001b[1;34m''\u001b[0m\u001b[1;33m)\u001b[0m\u001b[1;33m\u001b[0m\u001b[1;33m\u001b[0m\u001b[0m\n\u001b[0;32m      4\u001b[0m \u001b[0mData\u001b[0m\u001b[1;33m\u001b[0m\u001b[1;33m\u001b[0m\u001b[0m\n",
      "\u001b[1;31mNameError\u001b[0m: name 'pd' is not defined"
     ]
    }
   ],
   "source": [
    "Data = pd.read_csv(\"jeju_final.csv\")\n",
    "for i in range(0, len(Data)):\n",
    "    Data['companyName'][i] = Data['companyName'][i].replace(' ','')\n",
    "Data"
   ]
  },
  {
   "cell_type": "code",
   "execution_count": null,
   "id": "6122e428",
   "metadata": {},
   "outputs": [],
   "source": [
    "Data = Data.reset_index()\n",
    "Data"
   ]
  },
  {
   "cell_type": "code",
   "execution_count": null,
   "id": "49efdb64",
   "metadata": {
    "scrolled": true
   },
   "outputs": [],
   "source": [
    "Data1 = Data[Data[\"filter\"] == 1]\n",
    "Data1 = Data1.reset_index()\n",
    "Data1"
   ]
  },
  {
   "cell_type": "code",
   "execution_count": null,
   "id": "fe73e82a",
   "metadata": {
    "scrolled": true
   },
   "outputs": [],
   "source": [
    "Data2 = Data[Data[\"filter\"] == 2]\n",
    "Data2"
   ]
  },
  {
   "cell_type": "code",
   "execution_count": null,
   "id": "000f600d",
   "metadata": {
    "scrolled": true
   },
   "outputs": [],
   "source": [
    "Data3 = Data[Data[\"filter\"] == 3]\n",
    "Data3"
   ]
  },
  {
   "cell_type": "code",
   "execution_count": null,
   "id": "bdead497",
   "metadata": {
    "scrolled": true
   },
   "outputs": [],
   "source": [
    "Data.columns"
   ]
  },
  {
   "cell_type": "code",
   "execution_count": 2,
   "id": "e912bada",
   "metadata": {
    "scrolled": true
   },
   "outputs": [
    {
     "name": "stderr",
     "output_type": "stream",
     "text": [
      "C:\\Users\\장연화\\AppData\\Local\\Temp\\ipykernel_19116\\2044138793.py:12: SettingWithCopyWarning: \n",
      "A value is trying to be set on a copy of a slice from a DataFrame\n",
      "\n",
      "See the caveats in the documentation: https://pandas.pydata.org/pandas-docs/stable/user_guide/indexing.html#returning-a-view-versus-a-copy\n",
      "  Data['companyName'][i] = Data['companyName'][i].replace(' ','')\n"
     ]
    },
    {
     "name": "stdout",
     "output_type": "stream",
     "text": [
      " * Serving Flask app '__main__' (lazy loading)\n",
      " * Environment: production\n",
      "\u001b[31m   WARNING: This is a development server. Do not use it in a production deployment.\u001b[0m\n",
      "\u001b[2m   Use a production WSGI server instead.\u001b[0m\n",
      " * Debug mode: off\n"
     ]
    },
    {
     "name": "stderr",
     "output_type": "stream",
     "text": [
      " * Running on http://localhost:5000 (Press CTRL+C to quit)\n",
      "127.0.0.1 - - [12/Jun/2022 01:18:48] \"GET /JejuPharmacyMoa HTTP/1.1\" 200 -\n",
      "127.0.0.1 - - [12/Jun/2022 01:18:48] \"GET /static/css/core.min.css HTTP/1.1\" 304 -\n",
      "127.0.0.1 - - [12/Jun/2022 01:18:48] \"GET /static/css/skin.css HTTP/1.1\" 304 -\n",
      "127.0.0.1 - - [12/Jun/2022 01:18:49] \"GET /static/js/timber.master.min.js HTTP/1.1\" 304 -\n",
      "127.0.0.1 - - [12/Jun/2022 01:18:49] \"GET /static/images/jejulogo2.png HTTP/1.1\" 304 -\n",
      "127.0.0.1 - - [12/Jun/2022 01:18:49] \"GET /static/images/jejulist2.png HTTP/1.1\" 304 -\n",
      "127.0.0.1 - - [12/Jun/2022 01:18:49] \"GET /static/images/phnight.png HTTP/1.1\" 304 -\n",
      "127.0.0.1 - - [12/Jun/2022 01:18:49] \"GET /static/images/phall.png HTTP/1.1\" 304 -\n",
      "127.0.0.1 - - [12/Jun/2022 01:18:49] \"GET /static/images/iconaccuracy.png HTTP/1.1\" 304 -\n",
      "127.0.0.1 - - [12/Jun/2022 01:18:53] \"GET /static/fonts/entypo.woff HTTP/1.1\" 304 -\n",
      "127.0.0.1 - - [12/Jun/2022 01:18:53] \"GET /static/images/iconfast.png HTTP/1.1\" 304 -\n",
      "127.0.0.1 - - [12/Jun/2022 01:18:53] \"GET /static/images/jejufoot.png HTTP/1.1\" 304 -\n",
      "127.0.0.1 - - [12/Jun/2022 01:18:53] \"GET /static/images/iconeasy.png HTTP/1.1\" 304 -\n",
      "127.0.0.1 - - [12/Jun/2022 01:18:54] \"GET /static/images/jejuicon.png HTTP/1.1\" 304 -\n",
      "127.0.0.1 - - [12/Jun/2022 01:19:00] \"GET /JejuPharmacyMoa HTTP/1.1\" 200 -\n",
      "127.0.0.1 - - [12/Jun/2022 01:19:00] \"GET /static/css/core.min.css HTTP/1.1\" 304 -\n",
      "127.0.0.1 - - [12/Jun/2022 01:19:00] \"GET /static/css/skin.css HTTP/1.1\" 304 -\n",
      "127.0.0.1 - - [12/Jun/2022 01:19:00] \"GET /static/images/jejulogo2.png HTTP/1.1\" 304 -\n",
      "127.0.0.1 - - [12/Jun/2022 01:19:00] \"GET /static/js/timber.master.min.js HTTP/1.1\" 304 -\n",
      "127.0.0.1 - - [12/Jun/2022 01:19:00] \"GET /static/images/jejulist2.png HTTP/1.1\" 304 -\n",
      "127.0.0.1 - - [12/Jun/2022 01:19:00] \"GET /static/images/phnight.png HTTP/1.1\" 304 -\n",
      "127.0.0.1 - - [12/Jun/2022 01:19:00] \"GET /static/images/phall.png HTTP/1.1\" 304 -\n",
      "127.0.0.1 - - [12/Jun/2022 01:19:01] \"GET /static/images/iconaccuracy.png HTTP/1.1\" 304 -\n",
      "127.0.0.1 - - [12/Jun/2022 01:19:01] \"GET /static/images/iconfast.png HTTP/1.1\" 304 -\n",
      "127.0.0.1 - - [12/Jun/2022 01:19:01] \"GET /static/images/iconeasy.png HTTP/1.1\" 304 -\n",
      "127.0.0.1 - - [12/Jun/2022 01:19:01] \"GET /static/images/jejufoot.png HTTP/1.1\" 304 -\n",
      "127.0.0.1 - - [12/Jun/2022 01:19:03] \"GET /static/fonts/entypo.woff HTTP/1.1\" 304 -\n",
      "127.0.0.1 - - [12/Jun/2022 01:19:04] \"GET /static/images/jejuicon.png HTTP/1.1\" 304 -\n",
      "127.0.0.1 - - [12/Jun/2022 01:19:05] \"GET /JejuPharmacyTotal HTTP/1.1\" 200 -\n",
      "127.0.0.1 - - [12/Jun/2022 01:19:05] \"GET /static/css/core.min.css HTTP/1.1\" 304 -\n",
      "127.0.0.1 - - [12/Jun/2022 01:19:05] \"GET /static/css/skin.css HTTP/1.1\" 304 -\n",
      "127.0.0.1 - - [12/Jun/2022 01:19:05] \"GET /static/js/timber.master.min.js HTTP/1.1\" 304 -\n",
      "127.0.0.1 - - [12/Jun/2022 01:19:05] \"GET /static/images/jejulogo2.png HTTP/1.1\" 304 -\n",
      "127.0.0.1 - - [12/Jun/2022 01:19:05] \"GET /static/images/jejulist2.png HTTP/1.1\" 304 -\n",
      "127.0.0.1 - - [12/Jun/2022 01:19:08] \"GET /JejuPharmacyMoa HTTP/1.1\" 200 -\n",
      "127.0.0.1 - - [12/Jun/2022 01:19:08] \"GET /static/css/core.min.css HTTP/1.1\" 304 -\n",
      "127.0.0.1 - - [12/Jun/2022 01:19:08] \"GET /static/css/skin.css HTTP/1.1\" 304 -\n",
      "127.0.0.1 - - [12/Jun/2022 01:19:08] \"GET /static/images/jejulogo2.png HTTP/1.1\" 304 -\n",
      "127.0.0.1 - - [12/Jun/2022 01:19:08] \"GET /static/js/timber.master.min.js HTTP/1.1\" 304 -\n",
      "127.0.0.1 - - [12/Jun/2022 01:19:08] \"GET /static/images/jejulist2.png HTTP/1.1\" 304 -\n",
      "127.0.0.1 - - [12/Jun/2022 01:19:08] \"GET /static/images/phnight.png HTTP/1.1\" 304 -\n",
      "127.0.0.1 - - [12/Jun/2022 01:19:08] \"GET /static/images/phall.png HTTP/1.1\" 304 -\n",
      "127.0.0.1 - - [12/Jun/2022 01:19:08] \"GET /static/images/iconaccuracy.png HTTP/1.1\" 304 -\n",
      "127.0.0.1 - - [12/Jun/2022 01:19:08] \"GET /static/images/iconfast.png HTTP/1.1\" 304 -\n",
      "127.0.0.1 - - [12/Jun/2022 01:19:08] \"GET /static/images/iconeasy.png HTTP/1.1\" 304 -\n",
      "127.0.0.1 - - [12/Jun/2022 01:19:08] \"GET /static/images/jejufoot.png HTTP/1.1\" 304 -\n",
      "127.0.0.1 - - [12/Jun/2022 01:19:15] \"GET /PharmacyDetail?Name=동현약국 HTTP/1.1\" 200 -\n",
      "127.0.0.1 - - [12/Jun/2022 01:19:16] \"GET /static/css/core.min.css HTTP/1.1\" 304 -\n",
      "127.0.0.1 - - [12/Jun/2022 01:19:16] \"GET /static/css/skin.css HTTP/1.1\" 304 -\n",
      "127.0.0.1 - - [12/Jun/2022 01:19:16] \"GET /static/js/timber.master.min.js HTTP/1.1\" 304 -\n",
      "127.0.0.1 - - [12/Jun/2022 01:19:16] \"GET /static/images/jejulogo2.png HTTP/1.1\" 304 -\n",
      "127.0.0.1 - - [12/Jun/2022 01:19:16] \"GET /static/images/jejulist2.png HTTP/1.1\" 304 -\n",
      "127.0.0.1 - - [12/Jun/2022 01:19:16] \"GET /static/images/jejufoot.png HTTP/1.1\" 304 -\n"
     ]
    }
   ],
   "source": [
    "from flask import Flask, request, render_template, redirect\n",
    "from flask_cors import CORS\n",
    "import re\n",
    "import random\n",
    "import pandas as pd\n",
    "import numpy as np\n",
    "import os\n",
    "\n",
    "app = Flask(__name__, static_url_path=\"/static\")\n",
    "Data = pd.read_csv(\"jeju_final.csv\", encoding=\"cp949\")\n",
    "for i in range(0, len(Data)):\n",
    "    Data['companyName'][i] = Data['companyName'][i].replace(' ','')\n",
    "Data = Data.reset_index()\n",
    "Data1 = Data[Data[\"filter\"] == 1]\n",
    "Data1 = Data1.reset_index()\n",
    "Data2 = Data[Data[\"filter\"] == 2]\n",
    "Data2 = Data2.reset_index()\n",
    "Data3 = Data[Data[\"filter\"] == 3]\n",
    "Data3 = Data3.reset_index()\n",
    "\n",
    "CORS(app)\n",
    "\n",
    "Name = Data['companyName']\n",
    "Tel = Data['tel']\n",
    "PostcodeDoro = Data['postcodeDoro']\n",
    "AddressDoro = Data['addressDoro']\n",
    "AddressJibun = Data['addressJibun']\n",
    "LatitudeValue = Data['latitude']\n",
    "LongitudeValue = Data['longitude']\n",
    "Filter = Data['filter']\n",
    "FilterNight = Data['filternight']\n",
    "Filter365 = Data['filter365']\n",
    "\n",
    "Name1 = Data1['companyName']\n",
    "AddressDoro1 = Data1['addressDoro']\n",
    "LatitudeValue1 = Data1['latitude']\n",
    "LongitudeValue1 = Data1['longitude']\n",
    "\n",
    "Name2 = Data2['companyName']\n",
    "AddressDoro2 = Data2['addressDoro']\n",
    "DetailNight = Data2['filternight']\n",
    "LatitudeValue2 = Data2['latitude']\n",
    "LongitudeValue2 = Data2['longitude']\n",
    "\n",
    "Name3 = Data3['companyName']\n",
    "AddressDoro3 = Data3['addressDoro']\n",
    "Detail365 = Data3['filter365']\n",
    "LatitudeValue3 = Data3['latitude']\n",
    "LongitudeValue3 = Data3['longitude']\n",
    "\n",
    "# FLASK API 구현\n",
    "# FLASK API 생성 예제 1\n",
    "# jeju-damoa-main.html (http://127.0.0.1:5000/JejuPharmacyMoa)\n",
    "@app.route(\"/\", methods=['GET','POST'])\n",
    "def MainPage():\n",
    "    return render_template('jeju-damoa-main.html',\n",
    "                            len2 = len(Name2),\n",
    "                            Name2 = Name2,\n",
    "                            AddressDoro2 = AddressDoro2,\n",
    "                            DetailNight = DetailNight,\n",
    "                            len3 = len(Name3),\n",
    "                            Name3 = Name3,\n",
    "                            AddressDoro3 = AddressDoro3,\n",
    "                            Detail365 = Detail365)\n",
    "\n",
    "# FLASK API 생성 예제 2\n",
    "# jeju-damoa-detail.html (http://127.0.0.1:5000/PharmacyDetail)\n",
    "@app.route(\"/PharmacyDetail\", methods=['GET','POST'])\n",
    "def DetailPage():\n",
    "    InputName = request.args.get('Name')\n",
    "    IDX = np.where(Name == InputName)[0]\n",
    "    return render_template('jeju-damoa-detail.html',\n",
    "                            Name = Name[IDX].values[0],\n",
    "                            LatitudeValue=LatitudeValue[IDX].values[0],\n",
    "                            LongitudeValue=LongitudeValue[IDX].values[0],\n",
    "                            Tel = Tel[IDX].values[0],\n",
    "                            AddressDoro = AddressDoro[IDX].values[0],\n",
    "                            AddressJibun = AddressJibun[IDX].values[0],\n",
    "                            PostcodeDoro = PostcodeDoro[IDX].values[0],\n",
    "                            Filter = Filter[IDX])\n",
    "\n",
    "\n",
    "Data_subarea = pd.read_csv(\"jeju_final_subarea.csv\")\n",
    "SubArea = Data_subarea['subarea']\n",
    "SubName = Data_subarea['companyName']\n",
    "SubTel = Data_subarea['tel']\n",
    "SubAddressDoro = Data_subarea['addressDoro']\n",
    "\n",
    "# FLASK API 생성 예제 3\n",
    "# jeju-damoa-total.html (http://127.0.0.1:5000/JejuPharmacyTotal)\n",
    "@app.route(\"/JejuPharmacyTotal\", methods=['GET','POST'])\n",
    "def TotalPage():\n",
    "    return render_template('jeju-damoa-total.html',\n",
    "                            len4 = len(SubName),\n",
    "                            SubArea = SubArea,\n",
    "                            SubName = SubName,\n",
    "                            SubTel = SubTel,\n",
    "                            SubAddressDoro = SubAddressDoro)\n",
    "\n",
    "# API 작동\n",
    "app.run(host='localhost', port='5000')"
   ]
  },
  {
   "cell_type": "markdown",
   "id": "8fd7eb2c",
   "metadata": {},
   "source": [
    "http://localhost:5000/JejuPharmacyMoa"
   ]
  },
  {
   "cell_type": "markdown",
   "id": "0cbdd78f",
   "metadata": {},
   "source": [
    "http://localhost:5000/PharmacyDetail"
   ]
  },
  {
   "cell_type": "markdown",
   "id": "b3399663",
   "metadata": {},
   "source": [
    "http://127.0.0.1:5000/JejuPharmacyTotal"
   ]
  },
  {
   "cell_type": "markdown",
   "id": "94bc4ba7",
   "metadata": {},
   "source": [
    "---\n",
    "검색 기능 추가"
   ]
  },
  {
   "cell_type": "code",
   "execution_count": 2,
   "id": "67573a2c",
   "metadata": {},
   "outputs": [
    {
     "name": "stdout",
     "output_type": "stream",
     "text": [
      " * Serving Flask app '__main__' (lazy loading)\n",
      " * Environment: production\n",
      "\u001b[31m   WARNING: This is a development server. Do not use it in a production deployment.\u001b[0m\n",
      "\u001b[2m   Use a production WSGI server instead.\u001b[0m\n",
      " * Debug mode: off\n"
     ]
    },
    {
     "name": "stderr",
     "output_type": "stream",
     "text": [
      " * Running on http://localhost:5000 (Press CTRL+C to quit)\n",
      "127.0.0.1 - - [07/Jun/2022 01:34:09] \"GET /JejuPharmacyTotal HTTP/1.1\" 200 -\n",
      "127.0.0.1 - - [07/Jun/2022 01:34:09] \"GET /bootstrap/css/bootstrap.css HTTP/1.1\" 404 -\n",
      "127.0.0.1 - - [07/Jun/2022 01:34:10] \"GET /assets/js/jquery-3.3.1.min.js HTTP/1.1\" 404 -\n",
      "127.0.0.1 - - [07/Jun/2022 01:34:12] \"GET /static/css/skin.css HTTP/1.1\" 304 -\n",
      "127.0.0.1 - - [07/Jun/2022 01:34:12] \"GET /static/css/core.min.css HTTP/1.1\" 304 -\n",
      "127.0.0.1 - - [07/Jun/2022 01:34:13] \"GET /static/fonts/entypo.woff HTTP/1.1\" 304 -\n",
      "127.0.0.1 - - [07/Jun/2022 01:34:13] \"GET /static/js/timber.master.min.js HTTP/1.1\" 304 -\n",
      "127.0.0.1 - - [07/Jun/2022 01:34:13] \"GET /static/images/jejulogo2.png HTTP/1.1\" 304 -\n",
      "127.0.0.1 - - [07/Jun/2022 01:34:13] \"GET /static/images/jejuicon.png HTTP/1.1\" 304 -\n"
     ]
    }
   ],
   "source": [
    "# FLASK API 생성 예제 4\n",
    "# jeju-damoa-total.html (http://127.0.0.1:5000/JejuPharmacyTotal)\n",
    "@app.route(\"/JejuPharmacySearch\", methods=['GET','POST'])\n",
    "def TotalPage():\n",
    "    return render_template('jeju-damoa-total.html',\n",
    "                            len1 = len(Name1),\n",
    "                            Name1 = Name1,\n",
    "                            AddressDoro1 = AddressDoro1,\n",
    "                            len2 = len(Name2),\n",
    "                            Name2 = Name2,\n",
    "                            AddressDoro2 = AddressDoro2,\n",
    "                            DetailNight = DetailNight,\n",
    "                            len3 = len(Name3),\n",
    "                            Name3 = Name3,\n",
    "                            AddressDoro3 = AddressDoro3,\n",
    "                            Detail365 = Detail365)\n",
    "\n",
    "# API 작동\n",
    "app.run(host='localhost', port='5000')"
   ]
  },
  {
   "cell_type": "markdown",
   "id": "54fafc2a",
   "metadata": {},
   "source": [
    "http://127.0.0.1:5000/JejuPharmacySearch"
   ]
  },
  {
   "cell_type": "code",
   "execution_count": 2,
   "id": "189f6395",
   "metadata": {},
   "outputs": [
    {
     "name": "stdout",
     "output_type": "stream",
     "text": [
      " * Serving Flask app '__main__' (lazy loading)\n",
      " * Environment: production\n",
      "\u001b[31m   WARNING: This is a development server. Do not use it in a production deployment.\u001b[0m\n",
      "\u001b[2m   Use a production WSGI server instead.\u001b[0m\n",
      " * Debug mode: off\n"
     ]
    },
    {
     "name": "stderr",
     "output_type": "stream",
     "text": [
      " * Running on http://localhost:5000 (Press CTRL+C to quit)\n",
      "127.0.0.1 - - [07/Jun/2022 01:30:31] \"GET / HTTP/1.1\" 404 -\n",
      "127.0.0.1 - - [07/Jun/2022 01:30:31] \"GET /favicon.ico HTTP/1.1\" 404 -\n",
      "[2022-06-07 01:30:35,205] ERROR in app: Exception on /JejuPharmacyTotal [GET]\n",
      "Traceback (most recent call last):\n",
      "  File \"C:\\Users\\장연화\\AppData\\Local\\Programs\\Python\\Python39\\lib\\site-packages\\flask\\app.py\", line 2077, in wsgi_app\n",
      "    response = self.full_dispatch_request()\n",
      "  File \"C:\\Users\\장연화\\AppData\\Local\\Programs\\Python\\Python39\\lib\\site-packages\\flask\\app.py\", line 1525, in full_dispatch_request\n",
      "    rv = self.handle_user_exception(e)\n",
      "  File \"C:\\Users\\장연화\\AppData\\Local\\Programs\\Python\\Python39\\lib\\site-packages\\flask_cors\\extension.py\", line 165, in wrapped_function\n",
      "    return cors_after_request(app.make_response(f(*args, **kwargs)))\n",
      "  File \"C:\\Users\\장연화\\AppData\\Local\\Programs\\Python\\Python39\\lib\\site-packages\\flask\\app.py\", line 1523, in full_dispatch_request\n",
      "    rv = self.dispatch_request()\n",
      "  File \"C:\\Users\\장연화\\AppData\\Local\\Programs\\Python\\Python39\\lib\\site-packages\\flask\\app.py\", line 1509, in dispatch_request\n",
      "    return self.ensure_sync(self.view_functions[rule.endpoint])(**req.view_args)\n",
      "  File \"C:\\Users\\장연화\\AppData\\Local\\Temp\\ipykernel_4048\\2984717169.py\", line 10, in TotalPage\n",
      "    What_index = [What in Name or What in AddressDoro or What in AddressJibun for Name, AddressDoro, AddressJibun in zip(Data[Name], Data[AddressDoro], Data[AddressJibun])]\n",
      "  File \"C:\\Users\\장연화\\AppData\\Local\\Programs\\Python\\Python39\\lib\\site-packages\\pandas\\core\\frame.py\", line 3511, in __getitem__\n",
      "    indexer = self.columns._get_indexer_strict(key, \"columns\")[1]\n",
      "  File \"C:\\Users\\장연화\\AppData\\Local\\Programs\\Python\\Python39\\lib\\site-packages\\pandas\\core\\indexes\\base.py\", line 5782, in _get_indexer_strict\n",
      "    self._raise_if_missing(keyarr, indexer, axis_name)\n",
      "  File \"C:\\Users\\장연화\\AppData\\Local\\Programs\\Python\\Python39\\lib\\site-packages\\pandas\\core\\indexes\\base.py\", line 5842, in _raise_if_missing\n",
      "    raise KeyError(f\"None of [{key}] are in the [{axis_name}]\")\n",
      "KeyError: \"None of [Index(['추자약국', '신창약국', '차귀도약국', '장수약국', '새별약국', '한그루약국', '달래약국', '은솔약국',\\n       '세창약국', '태안약국',\\n       ...\\n       '소아약국', '표선한사랑약국', '온세상건강약국', '은혜약국', '제일약국', '태양약국', '제주사랑약국',\\n       '동남온누리약국', '새한약국', '프라임약국'],\\n      dtype='object', length=308)] are in the [columns]\"\n",
      "127.0.0.1 - - [07/Jun/2022 01:30:35] \"GET /JejuPharmacyTotal HTTP/1.1\" 500 -\n"
     ]
    }
   ],
   "source": [
    "# FLASK API 생성 예제 4\n",
    "# jeju-damoa-search.html (http://127.0.0.1:5000/JejuPharmacySearch)\n",
    "@app.route(\"/JejuPharmacySearch\", methods=['GET','POST'])\n",
    "def TotalPage():\n",
    "    What = request.args.get('What')\n",
    "    \n",
    "    if What == '':\n",
    "        What_index = [True for i in range(len(Data.set_index('Name')))]\n",
    "    else:\n",
    "        What_index = [What in Name or What in AddressDoro or What in AddressJibun for Name, AddressDoro, AddressJibun in zip(Data[Name], Data[AddressDoro], Data[AddressJibun])]\n",
    "\n",
    "    FinalIndex = pd.Series([What_index])\n",
    "    return render_template(Name = Name,\n",
    "                            AddressDoro = AddressDoro,\n",
    "                            AddressJibun = AddressJibun)\n",
    "\n",
    "# API 작동\n",
    "app.run(host='localhost', port='5000')"
   ]
  },
  {
   "cell_type": "code",
   "execution_count": null,
   "id": "62cb6bab",
   "metadata": {},
   "outputs": [],
   "source": [
    "\t\t\t\t\t\t\t<script>\n",
    "                                // 'request'라는 id를 가진 버튼 클릭 시 실행.\n",
    "                                What1 = getParam('What')\n",
    "                                FinalURL = 'http://127.0.0.1:5000/JejuPharmacyTotal?What=' + What1\n",
    "                                \n",
    "                                $.ajax({\n",
    "                                    type : 'GET',\n",
    "                                    url : 'http://127.0.0.1:5000/JejuPharmacyTotal?What=' + What1,\n",
    "                                    success : function(result){\n",
    "                                        var data = JSON.parse(result);\n",
    "                                        \n",
    "                                        AddressDoro = Object.values(data.AddressDoro)\n",
    "                                        Name = Object.values(data.Name)\n",
    "                                        for (var i=0; i<Data_Category.length; i++){\n",
    "                                            $(\"#itemList\").append(\"\\\n",
    "\t\t\t\t\t\t\t\t\t\t\t\t<div class='grid-item product portrait grid-sizer'>\\\n",
    "\t\t\t\t\t\t\t\t\t\t\t\t\t<div class='thumbnail product-thumbnail img-scale-in' data-hover-easing='easeInOut' data-hover-speed='700' data-hover-bkg-color='#000000' data-hover-bkg-opacity='0.5'>\\\n",
    "\t\t\t\t\t\t\t\t\t\t\t\t\t\t<a class='overlay-link' href='#' form method='GET'>\\\n",
    "\t\t\t\t\t\t\t\t\t\t\t\t\t\t\t<img src='\"+images/phbasic.png+\"' alt=''>\\\n",
    "\t\t\t\t\t\t\t\t\t\t\t\t\t\t\t<span class='overlay-info'>\\\n",
    "\t\t\t\t\t\t\t\t\t\t\t\t\t\t\t\t<span>\\\n",
    "\t\t\t\t\t\t\t\t\t\t\t\t\t\t\t\t\t<span class='product-title'>\"+AddressDoro[i]+\"</span>\\\n",
    "\t\t\t\t\t\t\t\t\t\t\t\t\t\t\t\t</span>\\\n",
    "\t\t\t\t\t\t\t\t\t\t\t\t\t\t\t</span>\\\n",
    "\t\t\t\t\t\t\t\t\t\t\t\t\t\t</a>\\\n",
    "\t\t\t\t\t\t\t\t\t\t\t\t\t</div>\\\n",
    "\t\t\t\t\t\t\t\t\t\t\t\t\t<div class='product-details'>\\\n",
    "\t\t\t\t\t\t\t\t\t\t\t\t\t\t<h3 class='product-title'>\\\n",
    "\t\t\t\t\t\t\t\t\t\t\t\t\t\t\t<a href='#'><br>\"+Name[i]+\"</a>\\\n",
    "\t\t\t\t\t\t\t\t\t\t\t\t\t\t</h3>\\\n",
    "\t\t\t\t\t\t\t\t\t\t\t\t\t\t<span class='color-black'> <br> </span>\\\n",
    "\t\t\t\t\t\t\t\t\t\t\t\t\t</div>\\\n",
    "\t\t\t\t\t\t\t\t\t\t\t\t</div>\");\n",
    "\n",
    "                                    }},\n",
    "                                    error: function(xhr, ajaxOptions, thrownError){\n",
    "                                    },\n",
    "                                });\n",
    "                            </script>\n",
    "\n",
    "<div class=\"grid-container fade-in-progressively no-padding-top\" data-layout-mode=\"masonry\" data-grid-ratio=\"1\" data-animate-resize data-animate-resize-duration=\"0\" id=\"\"itemList\">\n",
    "</div>"
   ]
  },
  {
   "cell_type": "code",
   "execution_count": null,
   "id": "bf68e98c",
   "metadata": {},
   "outputs": [],
   "source": [
    "<!-- Portfolio Grid -->\n",
    "\t\t\t\t\t\t\t<div class=\"grid-container fade-in-progressively no-padding-top\" data-layout-mode=\"masonry\" data-grid-ratio=\"1\" data-animate-resize data-animate-resize-duration=\"0\">\n",
    "\t\t\t\t\t\t\t\t<div class=\"row\">\n",
    "\t\t\t\t\t\t\t\t\t<div class=\"column width-12\">\n",
    "\t\t\t\t\t\t\t\t\t\t<div class=\"row grid content-grid-4\">\n",
    "\t\t\t\t\t\t\t\t\t\t\t{% for j in range(0, len2) %}\n",
    "\t\t\t\t\t\t\t\t\t\t\t<div class=\"grid-item product portrait grid-sizer\">\n",
    "\t\t\t\t\t\t\t\t\t\t\t\t<div class=\"thumbnail product-thumbnail img-scale-in\" data-hover-easing=\"easeInOut\" data-hover-speed=\"700\" data-hover-bkg-color=\"#000000\" data-hover-bkg-opacity=\"0.5\">\n",
    "\t\t\t\t\t\t\t\t\t\t\t\t\t<span class=\"onsale\">심야</span>\n",
    "\t\t\t\t\t\t\t\t\t\t\t\t\t<a class=\"overlay-link\" href=\"{{ url_for('DetailPage', Name=Name2[j]) }}\">\n",
    "\t\t\t\t\t\t\t\t\t\t\t\t\t\t<img src=\"{{ url_for('static', filename='images/phnight.png')}}\" alt=\"\"/>\n",
    "\t\t\t\t\t\t\t\t\t\t\t\t\t\t<span class=\"overlay-info\">\n",
    "\t\t\t\t\t\t\t\t\t\t\t\t\t\t\t<span>\n",
    "\t\t\t\t\t\t\t\t\t\t\t\t\t\t\t\t<span class=\"product-title\">{{AddressDoro2[j]}}</span>\n",
    "\t\t\t\t\t\t\t\t\t\t\t\t\t\t\t</span>\n",
    "\t\t\t\t\t\t\t\t\t\t\t\t\t\t</span>\n",
    "\t\t\t\t\t\t\t\t\t\t\t\t\t</a>\n",
    "\t\t\t\t\t\t\t\t\t\t\t\t</div>\n",
    "\t\t\t\t\t\t\t\t\t\t\t\t<div class=\"product-details\">\n",
    "\t\t\t\t\t\t\t\t\t\t\t\t\t<h3 class=\"product-title\">\n",
    "\t\t\t\t\t\t\t\t\t\t\t\t\t\t<a href=\"{{ url_for('DetailPage', Name=Name2[j]) }}\"><br>{{Name2[j]}}</a>\n",
    "\t\t\t\t\t\t\t\t\t\t\t\t\t</h3>\n",
    "\t\t\t\t\t\t\t\t\t\t\t\t\t<span class=\"color-black\">{{DetailNight[j]}}</span>\n",
    "\t\t\t\t\t\t\t\t\t\t\t\t</div>\n",
    "\t\t\t\t\t\t\t\t\t\t\t</div>\n",
    "\t\t\t\t\t\t\t\t\t\t\t{% endfor %}\n",
    "\n",
    "\t\t\t\t\t\t\t\t\t\t\t{% for k in range(0, len3) %}\n",
    "\t\t\t\t\t\t\t\t\t\t\t<div class=\"grid-item product portrait grid-sizer\">\n",
    "\t\t\t\t\t\t\t\t\t\t\t\t<div class=\"thumbnail product-thumbnail img-scale-in\" data-hover-easing=\"easeInOut\" data-hover-speed=\"700\" data-hover-bkg-color=\"#000000\" data-hover-bkg-opacity=\"0.5\">\n",
    "\t\t\t\t\t\t\t\t\t\t\t\t\t<span class=\"onsale\">연중무휴</span>\n",
    "\t\t\t\t\t\t\t\t\t\t\t\t\t<a class=\"overlay-link\" href=\"{{ url_for('DetailPage', Name=Name3[k]) }}\">\n",
    "\t\t\t\t\t\t\t\t\t\t\t\t\t\t<img src=\"{{ url_for('static', filename='images/phall.png')}}\" alt=\"\"/>\n",
    "\t\t\t\t\t\t\t\t\t\t\t\t\t\t<span class=\"overlay-info\">\n",
    "\t\t\t\t\t\t\t\t\t\t\t\t\t\t\t<span>\n",
    "\t\t\t\t\t\t\t\t\t\t\t\t\t\t\t\t<span class=\"product-title\">{{AddressDoro3[k]}}</span>\n",
    "\t\t\t\t\t\t\t\t\t\t\t\t\t\t\t</span>\n",
    "\t\t\t\t\t\t\t\t\t\t\t\t\t\t</span>\n",
    "\t\t\t\t\t\t\t\t\t\t\t\t\t</a>\n",
    "\t\t\t\t\t\t\t\t\t\t\t\t</div>\n",
    "\t\t\t\t\t\t\t\t\t\t\t\t<div class=\"product-details\">\n",
    "\t\t\t\t\t\t\t\t\t\t\t\t\t<h3 class=\"product-title\">\n",
    "\t\t\t\t\t\t\t\t\t\t\t\t\t\t<a href=\"{{ url_for('DetailPage', Name=Name3[k]) }}\"><br>{{Name3[k]}}</a>\n",
    "\t\t\t\t\t\t\t\t\t\t\t\t\t</h3>\n",
    "\t\t\t\t\t\t\t\t\t\t\t\t\t<span class=\"color-black\">{{Detail365[k]}}</span>\n",
    "\t\t\t\t\t\t\t\t\t\t\t\t</div>\n",
    "\t\t\t\t\t\t\t\t\t\t\t</div>\n",
    "\t\t\t\t\t\t\t\t\t\t\t{% endfor %}\n",
    "\n",
    "\t\t\t\t\t\t\t\t\t\t\t{% for i in range(0, len1) %}\n",
    "\t\t\t\t\t\t\t\t\t\t\t<div class=\"grid-item product portrait grid-sizer\">\n",
    "\t\t\t\t\t\t\t\t\t\t\t\t<div class=\"thumbnail product-thumbnail img-scale-in\" data-hover-easing=\"easeInOut\" data-hover-speed=\"700\" data-hover-bkg-color=\"#000000\" data-hover-bkg-opacity=\"0.5\">\n",
    "\t\t\t\t\t\t\t\t\t\t\t\t\t<a class=\"overlay-link\" href=\"{{ url_for('DetailPage', Name=Name1[i]) }}\">\n",
    "\t\t\t\t\t\t\t\t\t\t\t\t\t\t<img src=\"{{ url_for('static', filename='images/phbasic.png')}}\" alt=\"\"/>\n",
    "\t\t\t\t\t\t\t\t\t\t\t\t\t\t<span class=\"overlay-info\">\n",
    "\t\t\t\t\t\t\t\t\t\t\t\t\t\t\t<span>\n",
    "\t\t\t\t\t\t\t\t\t\t\t\t\t\t\t\t<span class=\"product-title\">{{AddressDoro1[i]}}</span>\n",
    "\t\t\t\t\t\t\t\t\t\t\t\t\t\t\t</span>\n",
    "\t\t\t\t\t\t\t\t\t\t\t\t\t\t</span>\n",
    "\t\t\t\t\t\t\t\t\t\t\t\t\t</a>\n",
    "\t\t\t\t\t\t\t\t\t\t\t\t</div>\n",
    "\t\t\t\t\t\t\t\t\t\t\t\t<div class=\"product-details\">\n",
    "\t\t\t\t\t\t\t\t\t\t\t\t\t<h3 class=\"product-title\">\n",
    "\t\t\t\t\t\t\t\t\t\t\t\t\t\t<a href=\"{{ url_for('DetailPage', Name=Name3[i]) }}\"><br>{{Name1[i]}}</a>\n",
    "\t\t\t\t\t\t\t\t\t\t\t\t\t</h3>\n",
    "\t\t\t\t\t\t\t\t\t\t\t\t\t<span class=\"color-black\"> <br> </span>\n",
    "\t\t\t\t\t\t\t\t\t\t\t\t</div>\n",
    "\t\t\t\t\t\t\t\t\t\t\t</div>\n",
    "\t\t\t\t\t\t\t\t\t\t\t{% endfor %}\n",
    "\t\t\t\t\t\t\t\t\t\t</div>\n",
    "\t\t\t\t\t\t\t\t\t\t<!-- Portfolio Grid End -->\n",
    "\t\t\t\t\t\t\t\t\t</div>\n",
    "\t\t\t\t\t\t\t\t</div>\n",
    "\t\t\t\t\t\t\t</div>\n",
    "\t\t\t\t\t\t\t<!-- Portfolio Grid End -->"
   ]
  }
 ],
 "metadata": {
  "kernelspec": {
   "display_name": "Python 3 (ipykernel)",
   "language": "python",
   "name": "python3"
  },
  "language_info": {
   "codemirror_mode": {
    "name": "ipython",
    "version": 3
   },
   "file_extension": ".py",
   "mimetype": "text/x-python",
   "name": "python",
   "nbconvert_exporter": "python",
   "pygments_lexer": "ipython3",
   "version": "3.9.7"
  }
 },
 "nbformat": 4,
 "nbformat_minor": 5
}
